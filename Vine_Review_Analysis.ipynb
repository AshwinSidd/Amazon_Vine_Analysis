{
  "nbformat": 4,
  "nbformat_minor": 0,
  "metadata": {
    "colab": {
      "name": "Vine_Review_Analysis.ipynb",
      "provenance": []
    },
    "kernelspec": {
      "name": "python3",
      "display_name": "Python 3"
    },
    "language_info": {
      "name": "python"
    }
  },
  "cells": [
    {
      "cell_type": "code",
      "execution_count": 1,
      "metadata": {
        "colab": {
          "base_uri": "https://localhost:8080/"
        },
        "id": "wf9iv5v7GSbp",
        "outputId": "fe869270-a406-4d00-bc52-565e14e18c3b"
      },
      "outputs": [
        {
          "output_type": "stream",
          "name": "stdout",
          "text": [
            "Get:1 https://cloud.r-project.org/bin/linux/ubuntu bionic-cran40/ InRelease [3,626 B]\n",
            "Ign:2 https://developer.download.nvidia.com/compute/cuda/repos/ubuntu1804/x86_64  InRelease\n",
            "Ign:3 https://developer.download.nvidia.com/compute/machine-learning/repos/ubuntu1804/x86_64  InRelease\n",
            "Get:4 https://developer.download.nvidia.com/compute/cuda/repos/ubuntu1804/x86_64  Release [696 B]\n",
            "Hit:5 https://developer.download.nvidia.com/compute/machine-learning/repos/ubuntu1804/x86_64  Release\n",
            "Get:6 https://developer.download.nvidia.com/compute/cuda/repos/ubuntu1804/x86_64  Release.gpg [836 B]\n",
            "Get:7 http://security.ubuntu.com/ubuntu bionic-security InRelease [88.7 kB]\n",
            "Get:8 http://ppa.launchpad.net/c2d4u.team/c2d4u4.0+/ubuntu bionic InRelease [15.9 kB]\n",
            "Hit:9 http://archive.ubuntu.com/ubuntu bionic InRelease\n",
            "Get:10 http://archive.ubuntu.com/ubuntu bionic-updates InRelease [88.7 kB]\n",
            "Hit:11 http://ppa.launchpad.net/cran/libgit2/ubuntu bionic InRelease\n",
            "Get:13 http://ppa.launchpad.net/deadsnakes/ppa/ubuntu bionic InRelease [15.9 kB]\n",
            "Get:14 https://developer.download.nvidia.com/compute/cuda/repos/ubuntu1804/x86_64  Packages [917 kB]\n",
            "Get:15 http://archive.ubuntu.com/ubuntu bionic-backports InRelease [74.6 kB]\n",
            "Get:16 http://ppa.launchpad.net/graphics-drivers/ppa/ubuntu bionic InRelease [21.3 kB]\n",
            "Get:17 http://ppa.launchpad.net/c2d4u.team/c2d4u4.0+/ubuntu bionic/main Sources [1,826 kB]\n",
            "Get:18 http://ppa.launchpad.net/c2d4u.team/c2d4u4.0+/ubuntu bionic/main amd64 Packages [936 kB]\n",
            "Get:19 http://security.ubuntu.com/ubuntu bionic-security/restricted amd64 Packages [783 kB]\n",
            "Get:20 http://security.ubuntu.com/ubuntu bionic-security/multiverse amd64 Packages [21.1 kB]\n",
            "Get:21 http://security.ubuntu.com/ubuntu bionic-security/universe amd64 Packages [1,470 kB]\n",
            "Get:22 http://security.ubuntu.com/ubuntu bionic-security/main amd64 Packages [2,564 kB]\n",
            "Get:23 http://archive.ubuntu.com/ubuntu bionic-updates/universe amd64 Packages [2,248 kB]\n",
            "Get:24 http://ppa.launchpad.net/deadsnakes/ppa/ubuntu bionic/main amd64 Packages [45.3 kB]\n",
            "Get:25 http://archive.ubuntu.com/ubuntu bionic-updates/restricted amd64 Packages [816 kB]\n",
            "Get:26 http://archive.ubuntu.com/ubuntu bionic-updates/multiverse amd64 Packages [29.0 kB]\n",
            "Get:27 http://archive.ubuntu.com/ubuntu bionic-updates/main amd64 Packages [3,004 kB]\n",
            "Get:28 http://ppa.launchpad.net/graphics-drivers/ppa/ubuntu bionic/main amd64 Packages [42.8 kB]\n",
            "Fetched 15.0 MB in 7s (2,071 kB/s)\n",
            "Reading package lists... Done\n"
          ]
        }
      ],
      "source": [
        "import os\n",
        "# Find the latest version of spark 3.0 from http://www.apache.org/dist/spark/ and enter as the spark version\n",
        "# For example:\n",
        "# spark_version = 'spark-3.0.3'\n",
        "spark_version = 'spark-3.0.3'\n",
        "os.environ['SPARK_VERSION']=spark_version\n",
        "\n",
        "# Install Spark and Java\n",
        "!apt-get update\n",
        "!apt-get install openjdk-11-jdk-headless -qq > /dev/null\n",
        "!wget -q http://www.apache.org/dist/spark/$SPARK_VERSION/$SPARK_VERSION-bin-hadoop2.7.tgz\n",
        "!tar xf $SPARK_VERSION-bin-hadoop2.7.tgz\n",
        "!pip install -q findspark\n",
        "\n",
        "# Set Environment Variables\n",
        "import os\n",
        "os.environ[\"JAVA_HOME\"] = \"/usr/lib/jvm/java-11-openjdk-amd64\"\n",
        "os.environ[\"SPARK_HOME\"] = f\"/content/{spark_version}-bin-hadoop2.7\"\n",
        "\n",
        "# Start a SparkSession\n",
        "import findspark\n",
        "findspark.init()"
      ]
    },
    {
      "cell_type": "code",
      "source": [
        "# Download the Postgres driver that will allow Spark to interact with Postgres.\n",
        "!wget https://jdbc.postgresql.org/download/postgresql-42.2.16.jar"
      ],
      "metadata": {
        "colab": {
          "base_uri": "https://localhost:8080/"
        },
        "id": "f76eZdJHGbb0",
        "outputId": "1f61558f-187c-4679-8f10-ff361bc1ed94"
      },
      "execution_count": 2,
      "outputs": [
        {
          "output_type": "stream",
          "name": "stdout",
          "text": [
            "--2022-02-19 22:29:01--  https://jdbc.postgresql.org/download/postgresql-42.2.16.jar\n",
            "Resolving jdbc.postgresql.org (jdbc.postgresql.org)... 72.32.157.228, 2001:4800:3e1:1::228\n",
            "Connecting to jdbc.postgresql.org (jdbc.postgresql.org)|72.32.157.228|:443... connected.\n",
            "HTTP request sent, awaiting response... 200 OK\n",
            "Length: 1002883 (979K) [application/java-archive]\n",
            "Saving to: ‘postgresql-42.2.16.jar’\n",
            "\n",
            "postgresql-42.2.16. 100%[===================>] 979.38K  4.94MB/s    in 0.2s    \n",
            "\n",
            "2022-02-19 22:29:01 (4.94 MB/s) - ‘postgresql-42.2.16.jar’ saved [1002883/1002883]\n",
            "\n"
          ]
        }
      ]
    },
    {
      "cell_type": "code",
      "source": [
        "from pyspark.sql import SparkSession\n",
        "spark = SparkSession.builder.appName(\"M16-Amazon-Challenge\").config(\"spark.driver.extraClassPath\",\"/content/postgresql-42.2.16.jar\").getOrCreate()"
      ],
      "metadata": {
        "id": "UPSw79ZDGbeK"
      },
      "execution_count": 3,
      "outputs": []
    },
    {
      "cell_type": "code",
      "source": [
        "from pyspark import SparkFiles\n",
        "url = \"https://s3.amazonaws.com/amazon-reviews-pds/tsv/amazon_reviews_us_Kitchen_v1_00.tsv.gz\"\n",
        "spark.sparkContext.addFile(url)\n"
      ],
      "metadata": {
        "id": "E-WVDOdUGbgj"
      },
      "execution_count": 4,
      "outputs": []
    },
    {
      "cell_type": "code",
      "source": [
        "from pyspark.sql.functions import to_date\n",
        "# Read in the Review dataset as a DataFrame\n",
        "df = spark.read.option(\"encoding\", \"UTF-8\").csv(SparkFiles.get(\"\"), sep=\"\\t\", header=True, inferSchema=True)\n",
        "df.show()"
      ],
      "metadata": {
        "colab": {
          "base_uri": "https://localhost:8080/"
        },
        "id": "Ogy7mOsrGbjA",
        "outputId": "5df42ccc-8b6a-4de8-a00e-2579bddcca13"
      },
      "execution_count": 5,
      "outputs": [
        {
          "output_type": "stream",
          "name": "stdout",
          "text": [
            "+-----------+-----------+--------------+----------+--------------+--------------------+----------------+-----------+-------------+-----------+----+-----------------+--------------------+--------------------+-----------+\n",
            "|marketplace|customer_id|     review_id|product_id|product_parent|       product_title|product_category|star_rating|helpful_votes|total_votes|vine|verified_purchase|     review_headline|         review_body|review_date|\n",
            "+-----------+-----------+--------------+----------+--------------+--------------------+----------------+-----------+-------------+-----------+----+-----------------+--------------------+--------------------+-----------+\n",
            "|         US|   37000337|R3DT59XH7HXR9K|B00303FI0G|     529320574|Arthur Court Pape...|         Kitchen|          5|            0|          0|   N|                Y|Beautiful. Looks ...|Beautiful.  Looks...| 2015-08-31|\n",
            "|         US|   15272914|R1LFS11BNASSU8|B00JCZKZN6|     274237558|Olde Thompson Bav...|         Kitchen|          5|            0|          1|   N|                Y| Awesome & Self-ness|I personally have...| 2015-08-31|\n",
            "|         US|   36137863|R296RT05AG0AF6|B00JLIKA5C|     544675303|Progressive Inter...|         Kitchen|          5|            0|          0|   N|                Y|Fabulous and wort...|Fabulous and wort...| 2015-08-31|\n",
            "|         US|   43311049|R3V37XDZ7ZCI3L|B000GBNB8G|     491599489|Zyliss Jumbo Garl...|         Kitchen|          5|            0|          1|   N|                Y|          Five Stars|A must if you lov...| 2015-08-31|\n",
            "|         US|   13763148|R14GU232NQFYX2|B00VJ5KX9S|     353790155|1 X Premier Pizza...|         Kitchen|          5|            0|          0|   N|                Y|     Better than sex|Worth every penny...| 2015-08-31|\n",
            "|         US|   19009420| RZQH4V7L2O1PL|B00HYB5YY0|     432241873|       CHEF Aluminum|         Kitchen|          1|            1|          1|   N|                Y|Does not work on ...|The description s...| 2015-08-31|\n",
            "|         US|   40599388|R1F8JMOSPJ3KO7|B000HEBAV2|     584680984|Presto Dual Profr...|         Kitchen|          5|            0|          0|   N|                Y|Awesome! First fr...|Awesome! First fr...| 2015-08-31|\n",
            "|         US|   22719359|R1ZISGY2BWW4Z5|B0012DS4GG|     772637306|Rubbermaid Produc...|         Kitchen|          5|            0|          0|   N|                Y|          Five Stars|Very good item. Q...| 2015-08-31|\n",
            "|         US|   47478640|R17PW4I3AE5WZW|B00FLQ4EE6|     755416578|Cuisinart 12-Piec...|         Kitchen|          5|            0|          0|   N|                Y|          Five Stars|sharp and look great| 2015-08-31|\n",
            "|         US|   34195504|R3D93G1KTP6A8P|B00DBS9OTG|     648762742|Kegco 6\" Stainles...|         Kitchen|          3|            0|          0|   N|                Y|         Three Stars|Should have come ...| 2015-08-31|\n",
            "|         US|   19100570|R18TQIW1NKPUNU|B00AN9UJ68|     495720940|Cuisinart Smart S...|         Kitchen|          5|            0|          0|   N|                Y|          Five Stars|  my friend loves it| 2015-08-31|\n",
            "|         US|   10299811|R34KUNL21WU248|B00L2P0KNO|      41330497|Searzall Torch At...|         Kitchen|          4|            0|          0|   N|                Y|          Four Stars|works as expected...| 2015-08-31|\n",
            "|         US|   32687006|R2YA1ZA53X12IN|B00NQOJQXY|     191893454|Wilton 1512-1664 ...|         Kitchen|          5|            0|          0|   N|                Y|               great|               great| 2015-08-31|\n",
            "|         US|   43260893|R2ZD1IGC9UU55X|B00080QE1Q|     277442428|Magnalite Classic...|         Kitchen|          5|            1|          1|   N|                Y|         Great Pots!|Fantastic product...| 2015-08-31|\n",
            "|         US|    8067227| R9J2YMVZTUVZ7|B009VU17ZM|     414077276|Sun's Tea(TM) 20o...|         Kitchen|          5|            0|          0|   N|                Y|          Five Stars|Work great, well ...| 2015-08-31|\n",
            "|         US|   18139929|R2UUXJ0WQR0CNI|B00MY71KO2|     138697457|Adventure Time Be...|         Kitchen|          4|            0|          0|   N|                Y|              So big|holds a loooot of...| 2015-08-31|\n",
            "|         US|   12282702|R3S9QICITG73JZ|B00A6N18CK|      48180946|DecoBros 3 Tier D...|         Kitchen|          5|            0|          0|   N|                Y|It looks nice & n...|The DecoBros K cu...| 2015-08-31|\n",
            "|         US|   38649737|R3LISNJHS64PDA|B00AB8NOLS|      67759108|Brita Water Filte...|         Kitchen|          4|            0|          0|   N|                Y|          Four Stars| Met my expectations| 2015-08-31|\n",
            "|         US|   33460969|R28RB82UG4RDD5|B00FB4UPA0|      10711472|Nifty Home 24 K-C...|         Kitchen|          5|           20|         20|   N|                Y| Saves counter space|Fits under my ful...| 2015-08-31|\n",
            "|         US|   40274860|R3H0PRVII5991X|B00YMHBQ0A|     618617346|Eoonfirst Snoopy ...|         Kitchen|          5|            0|          0|   N|                Y|          Five Stars|            Love it!| 2015-08-31|\n",
            "+-----------+-----------+--------------+----------+--------------+--------------------+----------------+-----------+-------------+-----------+----+-----------------+--------------------+--------------------+-----------+\n",
            "only showing top 20 rows\n",
            "\n"
          ]
        }
      ]
    },
    {
      "cell_type": "code",
      "source": [
        "#Filter the data and create a new DataFrame or table to retrieve all the rows where the total_votes count is equal to or greater than 20\n",
        "df_twenty = df.filter(df.total_votes >= 20)\n",
        "df_twenty.show()"
      ],
      "metadata": {
        "colab": {
          "base_uri": "https://localhost:8080/"
        },
        "id": "Lisbu2cmGbls",
        "outputId": "dcffcbed-e59f-43e9-8f9b-b475645add71"
      },
      "execution_count": 16,
      "outputs": [
        {
          "output_type": "stream",
          "name": "stdout",
          "text": [
            "+-----------+-----------+--------------+----------+--------------+--------------------+----------------+-----------+-------------+-----------+----+-----------------+--------------------+--------------------+-----------+\n",
            "|marketplace|customer_id|     review_id|product_id|product_parent|       product_title|product_category|star_rating|helpful_votes|total_votes|vine|verified_purchase|     review_headline|         review_body|review_date|\n",
            "+-----------+-----------+--------------+----------+--------------+--------------------+----------------+-----------+-------------+-----------+----+-----------------+--------------------+--------------------+-----------+\n",
            "|         US|   33460969|R28RB82UG4RDD5|B00FB4UPA0|      10711472|Nifty Home 24 K-C...|         Kitchen|          5|           20|         20|   N|                Y| Saves counter space|Fits under my ful...| 2015-08-31|\n",
            "|         US|   47272965|R3FB6BERWPEIJP|B0029OXHVY|     236056882|Wusthof Classic I...|         Kitchen|          4|           40|         43|   N|                Y|Great knife but w...|This knife has be...| 2015-08-31|\n",
            "|         US|   17776853|R1D4Z38STRDQXK|B00IRW15ES|     936830997|Wabash Valley Far...|         Kitchen|          5|           53|         56|   N|                Y|Very Heavy Duty -...|Let me first say,...| 2015-08-31|\n",
            "|         US|   42482060|R1XMWJZICINIFX|B00EPHPQOE|     976827724|French-inspired \"...|         Kitchen|          3|           20|         21|   N|                Y|Double Check the ...|This is a really ...| 2015-08-31|\n",
            "|         US|   52832486|R20QKY1GABXFLM|B00URO56CG|     342955358|Rachael Ray 14-Pi...|         Kitchen|          1|          272|        297|   N|                Y|First time using ...|The first time us...| 2015-08-31|\n",
            "|         US|   13782702|R3GZ7CK2O1PPG0|B00XA284WG|      79322164|hölm Flexible Sil...|         Kitchen|          2|           10|         30|   N|                Y|Should be made mo...|Not crazy about t...| 2015-08-31|\n",
            "|         US|   37879383|R328FA1E6FY3F5|B010A5JP5K|     260716339|Midori Way Thick ...|         Kitchen|          5|           17|         20|   N|                N|My New Favorite C...|i have been using...| 2015-08-31|\n",
            "|         US|   30356443|R3DH22AA5WGLLS|B0040QD9MG|     945191020|Sistema Klip It C...|         Kitchen|          5|           30|         30|   N|                N|Versatile, great ...|Over the last thr...| 2015-08-31|\n",
            "|         US|   16963471|R1E0E5EFZSLJCS|B000066OJD|     355371628|OXO SoftWorks Mea...|         Kitchen|          1|           66|         80|   N|                Y|             painful|Please see the pi...| 2015-08-31|\n",
            "|         US|    8612349|R1TXZQWEHYWEWN|B00H8OATE8|     628321891|Philips HD9230/26...|         Kitchen|          2|           48|         51|   N|                Y|... air fryer in ...|Bought this air f...| 2015-08-31|\n",
            "|         US|   35807336| RQQAI8YL3UCY2|B00YSBTXBY|     308733658|iCoffee RSS300-DA...|         Kitchen|          5|           23|         25|   N|                Y|This is an excell...|I thought I'd alr...| 2015-08-31|\n",
            "|         US|   43175994|R3PZNAQREFUNJ7|B00GRIR87M|     319510941|Spiralizer 5-Blad...|         Kitchen|          4|           28|         35|   N|                Y|Works well but fo...|Overall like the ...| 2015-08-31|\n",
            "|         US|   38524783|R1ZUNUSUEA5D0T|B00PRD16PI|     133709074|Cupture Vintage M...|         Kitchen|          2|           17|         20|   N|                Y|Careful, it may e...|So, the order arr...| 2015-08-31|\n",
            "|         US|   42297008|R3SHJSHTY8AXKR|B003QP30S0|     900642667|Prepworks from Pr...|         Kitchen|          5|           69|         72|   N|                Y|Just Perfect for ...|This item is perf...| 2015-08-31|\n",
            "|         US|   29290468|R2QM1JXA2XI7XA|B00NQ7QFGM|     649069435|T-fal FR4049 Fami...|         Kitchen|          3|           61|         68|   N|                Y|I filled it to a ...|I have only used ...| 2015-08-31|\n",
            "|         US|   31845599|R1SVJ6XDBCQNSN|B0038LNVR2|     288798805|CuteZCute Bento D...|         Kitchen|          3|           29|         30|   N|                Y|Smaller than expe...|These are tiny --...| 2015-08-31|\n",
            "|         US|   40611040|R1IEABNX71GK3B|B00B80TJIU|     110095135|Ball Mason 4oz Qu...|         Kitchen|          1|           54|         58|   N|                N|       BROKEN GLASS!|MY ITEMS CAME BAD...| 2015-08-31|\n",
            "|         US|   52051413|R16QL1GNQVT4G9|B00YSBTXBY|     308733658|iCoffee RSS300-DA...|         Kitchen|          5|          117|        119|   N|                Y|Good, or excellen...|delivered August ...| 2015-08-31|\n",
            "|         US|   21595327|R1MV4YDD6O5UME|B010YE08DA|     872826655|Deluxe Cook V-Bla...|         Kitchen|          5|           30|         32|   N|                N|It gets the job d...|We had a mandolin...| 2015-08-31|\n",
            "|         US|   26470122|R3A8EHXA0JX7WV|B0120VW61C|     414872055|Magnetic Knife Ho...|         Kitchen|          5|           18|         24|   N|                N|Tiny kitchen, big...|Hubby and I live ...| 2015-08-31|\n",
            "+-----------+-----------+--------------+----------+--------------+--------------------+----------------+-----------+-------------+-----------+----+-----------------+--------------------+--------------------+-----------+\n",
            "only showing top 20 rows\n",
            "\n"
          ]
        }
      ]
    },
    {
      "cell_type": "code",
      "source": [
        "# Filter,create new df to retrieve all the rows where the number of helpful_votes divided by total_votes is equal to or greater than 50%.\n",
        "df_helpful_fifty = df1.filter((df1.helpful_votes / df1.total_votes) >= 0.5)\n",
        "df_helpful_fifty.show()"
      ],
      "metadata": {
        "colab": {
          "base_uri": "https://localhost:8080/"
        },
        "id": "fdfFIaU0Gbn6",
        "outputId": "b31bf396-c720-4d01-b5bf-e8afac1dc2f3"
      },
      "execution_count": 17,
      "outputs": [
        {
          "output_type": "stream",
          "name": "stdout",
          "text": [
            "+-----------+-----------+--------------+----------+--------------+--------------------+----------------+-----------+-------------+-----------+----+-----------------+--------------------+--------------------+-----------+\n",
            "|marketplace|customer_id|     review_id|product_id|product_parent|       product_title|product_category|star_rating|helpful_votes|total_votes|vine|verified_purchase|     review_headline|         review_body|review_date|\n",
            "+-----------+-----------+--------------+----------+--------------+--------------------+----------------+-----------+-------------+-----------+----+-----------------+--------------------+--------------------+-----------+\n",
            "|         US|   33460969|R28RB82UG4RDD5|B00FB4UPA0|      10711472|Nifty Home 24 K-C...|         Kitchen|          5|           20|         20|   N|                Y| Saves counter space|Fits under my ful...| 2015-08-31|\n",
            "|         US|   47272965|R3FB6BERWPEIJP|B0029OXHVY|     236056882|Wusthof Classic I...|         Kitchen|          4|           40|         43|   N|                Y|Great knife but w...|This knife has be...| 2015-08-31|\n",
            "|         US|   17776853|R1D4Z38STRDQXK|B00IRW15ES|     936830997|Wabash Valley Far...|         Kitchen|          5|           53|         56|   N|                Y|Very Heavy Duty -...|Let me first say,...| 2015-08-31|\n",
            "|         US|   42482060|R1XMWJZICINIFX|B00EPHPQOE|     976827724|French-inspired \"...|         Kitchen|          3|           20|         21|   N|                Y|Double Check the ...|This is a really ...| 2015-08-31|\n",
            "|         US|   52832486|R20QKY1GABXFLM|B00URO56CG|     342955358|Rachael Ray 14-Pi...|         Kitchen|          1|          272|        297|   N|                Y|First time using ...|The first time us...| 2015-08-31|\n",
            "|         US|   37879383|R328FA1E6FY3F5|B010A5JP5K|     260716339|Midori Way Thick ...|         Kitchen|          5|           17|         20|   N|                N|My New Favorite C...|i have been using...| 2015-08-31|\n",
            "|         US|   30356443|R3DH22AA5WGLLS|B0040QD9MG|     945191020|Sistema Klip It C...|         Kitchen|          5|           30|         30|   N|                N|Versatile, great ...|Over the last thr...| 2015-08-31|\n",
            "|         US|   16963471|R1E0E5EFZSLJCS|B000066OJD|     355371628|OXO SoftWorks Mea...|         Kitchen|          1|           66|         80|   N|                Y|             painful|Please see the pi...| 2015-08-31|\n",
            "|         US|    8612349|R1TXZQWEHYWEWN|B00H8OATE8|     628321891|Philips HD9230/26...|         Kitchen|          2|           48|         51|   N|                Y|... air fryer in ...|Bought this air f...| 2015-08-31|\n",
            "|         US|   35807336| RQQAI8YL3UCY2|B00YSBTXBY|     308733658|iCoffee RSS300-DA...|         Kitchen|          5|           23|         25|   N|                Y|This is an excell...|I thought I'd alr...| 2015-08-31|\n",
            "|         US|   43175994|R3PZNAQREFUNJ7|B00GRIR87M|     319510941|Spiralizer 5-Blad...|         Kitchen|          4|           28|         35|   N|                Y|Works well but fo...|Overall like the ...| 2015-08-31|\n",
            "|         US|   38524783|R1ZUNUSUEA5D0T|B00PRD16PI|     133709074|Cupture Vintage M...|         Kitchen|          2|           17|         20|   N|                Y|Careful, it may e...|So, the order arr...| 2015-08-31|\n",
            "|         US|   42297008|R3SHJSHTY8AXKR|B003QP30S0|     900642667|Prepworks from Pr...|         Kitchen|          5|           69|         72|   N|                Y|Just Perfect for ...|This item is perf...| 2015-08-31|\n",
            "|         US|   29290468|R2QM1JXA2XI7XA|B00NQ7QFGM|     649069435|T-fal FR4049 Fami...|         Kitchen|          3|           61|         68|   N|                Y|I filled it to a ...|I have only used ...| 2015-08-31|\n",
            "|         US|   31845599|R1SVJ6XDBCQNSN|B0038LNVR2|     288798805|CuteZCute Bento D...|         Kitchen|          3|           29|         30|   N|                Y|Smaller than expe...|These are tiny --...| 2015-08-31|\n",
            "|         US|   40611040|R1IEABNX71GK3B|B00B80TJIU|     110095135|Ball Mason 4oz Qu...|         Kitchen|          1|           54|         58|   N|                N|       BROKEN GLASS!|MY ITEMS CAME BAD...| 2015-08-31|\n",
            "|         US|   52051413|R16QL1GNQVT4G9|B00YSBTXBY|     308733658|iCoffee RSS300-DA...|         Kitchen|          5|          117|        119|   N|                Y|Good, or excellen...|delivered August ...| 2015-08-31|\n",
            "|         US|   21595327|R1MV4YDD6O5UME|B010YE08DA|     872826655|Deluxe Cook V-Bla...|         Kitchen|          5|           30|         32|   N|                N|It gets the job d...|We had a mandolin...| 2015-08-31|\n",
            "|         US|   26470122|R3A8EHXA0JX7WV|B0120VW61C|     414872055|Magnetic Knife Ho...|         Kitchen|          5|           18|         24|   N|                N|Tiny kitchen, big...|Hubby and I live ...| 2015-08-31|\n",
            "|         US|   49452274|R2M7TEVV9YSLTR|B00YU13CA0|     901581837|Under Armour Lunc...|         Kitchen|          5|           94|         96|   N|                Y|Far higher qualit...|I've been using l...| 2015-08-31|\n",
            "+-----------+-----------+--------------+----------+--------------+--------------------+----------------+-----------+-------------+-----------+----+-----------------+--------------------+--------------------+-----------+\n",
            "only showing top 20 rows\n",
            "\n"
          ]
        }
      ]
    },
    {
      "cell_type": "code",
      "source": [
        "# Filter, create new df that retrieves all the rows where a review was written as part of the Vine program (paid)\n",
        "paid_df = df2.filter(df2.vine == 'Y')\n",
        "paid_df.show()"
      ],
      "metadata": {
        "colab": {
          "base_uri": "https://localhost:8080/"
        },
        "id": "N3CGBYAnGbqc",
        "outputId": "7fd48fa0-a636-4d39-906f-a1f18317ccaf"
      },
      "execution_count": 12,
      "outputs": [
        {
          "output_type": "stream",
          "name": "stdout",
          "text": [
            "+-----------+-----------+--------------+----------+--------------+--------------------+----------------+-----------+-------------+-----------+----+-----------------+--------------------+--------------------+-----------+\n",
            "|marketplace|customer_id|     review_id|product_id|product_parent|       product_title|product_category|star_rating|helpful_votes|total_votes|vine|verified_purchase|     review_headline|         review_body|review_date|\n",
            "+-----------+-----------+--------------+----------+--------------+--------------------+----------------+-----------+-------------+-----------+----+-----------------+--------------------+--------------------+-----------+\n",
            "|         US|   33146712|R1Z71RW4J9IK93|B00YCP6UEO|     238165328|De'Longhi Automat...|         Kitchen|          5|           20|         22|   Y|                N|If you make cappu...|It's really hard ...| 2015-08-29|\n",
            "|         US|   16449486|R3FVB5QI11KI9Q|B00YCP71VK|      62048996|De'Longhi ECP3220...|         Kitchen|          4|          192|        200|   Y|                N|    Espresso Machine|The De'Longhi ECP...| 2015-08-29|\n",
            "|         US|   36602384|R2G027YBMVXV6Y|B00YCP71VK|      62048996|De'Longhi ECP3220...|         Kitchen|          5|           39|         48|   Y|                N|Pricy, But Good M...|Context: This is ...| 2015-08-28|\n",
            "|         US|   50079351|R1QGBAN7BMGWRR|B012CG8N26|     416688753|Hamilton Beach 32...|         Kitchen|          5|          121|        129|   Y|                N|Everything a begi...|I have been dehyd...| 2015-08-27|\n",
            "|         US|   51363988|R2NH2AU7XL9ZDZ|B00VHLXLZM|     846374371|BLACK+DECKER FP60...|         Kitchen|          3|           18|         20|   Y|                N|Decent for ocassi...|I broke the first...| 2015-08-27|\n",
            "|         US|   44737123|R2YVVJ9NOPNX50|B00GOH28S0|     102175725|Coravin Model Win...|         Kitchen|          4|           36|         41|   Y|                N|Makes the Impossi...|This unique new p...| 2015-08-22|\n",
            "|         US|   53018261|R1XH1LK1FWX3OS|B00V5IM5PY|     960400901|AmazonBasics Stai...|         Kitchen|          4|          214|        238|   Y|                N|Good quality for ...|I have an EatSmar...| 2015-08-22|\n",
            "|         US|   18378753|R38LSQ71G2IZGS|B00XAEIS3O|     207269388|Farberware 12 Pie...|         Kitchen|          5|           26|         29|   Y|                N|Excellent Heat Di...|I've got a simila...| 2015-08-22|\n",
            "|         US|   36849547|R2FLITQVKWXDF4|B00YCP6RBA|     709255424|De'Longhi ECAM232...|         Kitchen|          3|           26|         34|   Y|                N|I really tried to...|Here's my perspec...| 2015-08-19|\n",
            "|         US|   51094564|R25LMMZF3DJTWY|B00LBW6UKU|     496108565|KitchenAid Pro Li...|         Kitchen|          2|           18|         21|   Y|                N|lack of temperatu...|Although this esp...| 2015-08-17|\n",
            "|         US|   36356690|R18NC69T0KEC00|B00TQIUUVQ|     629372721|George Foreman GP...|         Kitchen|          5|           20|         23|   Y|                N|We Enjoy Camping ...|This griddle is c...| 2015-08-16|\n",
            "|         US|   32592172| ROYYZ0D9LMYS3|B00V5IM5PY|     960400901|AmazonBasics Stai...|         Kitchen|          5|           25|         33|   Y|                N|Simple, effective...|What a convenient...| 2015-08-15|\n",
            "|         US|   53090971|R223CE6ERRBPRZ|B00WA4UI42|     931960970|Cuisinart FP-12N ...|         Kitchen|          4|           82|         87|   Y|                N|A very functional...|Cuisinart Elite F...| 2015-08-15|\n",
            "|         US|   52408013|R1THPHKHO1BPRZ|B00V5IM5PY|     960400901|AmazonBasics Stai...|         Kitchen|          5|           15|         20|   Y|                N|Lightweight, big ...|Need a kitchen sc...| 2015-08-15|\n",
            "|         US|   52607181|R11K4PQS62ROLS|B00XAEIS3O|     207269388|Farberware 12 Pie...|         Kitchen|          5|           72|         75|   Y|                N|Highly Recommend ...|I was delighted t...| 2015-08-14|\n",
            "|         US|   28059557| R6AZL5SA22ITL|B00QSL89F8|     635181072|  Cooklite Aerofryer|         Kitchen|          1|           66|         70|   Y|                N|Too Small And Coo...|I have no problem...| 2015-08-14|\n",
            "|         US|   47914576| R4J2O4EHK73PR|B00ZCELTKY|      75438833|All-Clad 700393 M...|         Kitchen|          3|           46|         63|   Y|                N|Beautiful Cookwar...|This ALL-CLAD MC2...| 2015-08-13|\n",
            "|         US|   52808146| RMBQSVTJWY2A2|B00U3MCL6G|     911700864|Hamilton Beach 49...|         Kitchen|          5|           26|         28|   Y|                N|  Great coffee maker|The previous vers...| 2015-08-12|\n",
            "|         US|   52760989| RXLOQIB7S4OKN|B00TQIUWVE|     169931608|George Foreman 6-...|         Kitchen|          5|           31|         33|   Y|                N|Easy Cleaning and...|George Foreman Gr...| 2015-08-12|\n",
            "|         US|   52256900| RLG9MEHTAGWL6|B00TKXD0CS|     335828888|Lagostina Q555SD ...|         Kitchen|          5|           57|         63|   Y|                N|I've fallen in lo...|This Lagostina se...| 2015-08-12|\n",
            "+-----------+-----------+--------------+----------+--------------+--------------------+----------------+-----------+-------------+-----------+----+-----------------+--------------------+--------------------+-----------+\n",
            "only showing top 20 rows\n",
            "\n"
          ]
        }
      ]
    },
    {
      "cell_type": "code",
      "source": [
        "# retrieve all the rows where the review was not part of the Vine program (unpaid)\n",
        "unpaid_df = df2.filter(df2.vine == 'N')\n",
        "unpaid_df.show()"
      ],
      "metadata": {
        "colab": {
          "base_uri": "https://localhost:8080/"
        },
        "id": "YnfKF1fBHde0",
        "outputId": "d2a3df71-b46f-43cd-b67c-0cc3c090fe15"
      },
      "execution_count": 13,
      "outputs": [
        {
          "output_type": "stream",
          "name": "stdout",
          "text": [
            "+-----------+-----------+--------------+----------+--------------+--------------------+----------------+-----------+-------------+-----------+----+-----------------+--------------------+--------------------+-----------+\n",
            "|marketplace|customer_id|     review_id|product_id|product_parent|       product_title|product_category|star_rating|helpful_votes|total_votes|vine|verified_purchase|     review_headline|         review_body|review_date|\n",
            "+-----------+-----------+--------------+----------+--------------+--------------------+----------------+-----------+-------------+-----------+----+-----------------+--------------------+--------------------+-----------+\n",
            "|         US|   33460969|R28RB82UG4RDD5|B00FB4UPA0|      10711472|Nifty Home 24 K-C...|         Kitchen|          5|           20|         20|   N|                Y| Saves counter space|Fits under my ful...| 2015-08-31|\n",
            "|         US|   47272965|R3FB6BERWPEIJP|B0029OXHVY|     236056882|Wusthof Classic I...|         Kitchen|          4|           40|         43|   N|                Y|Great knife but w...|This knife has be...| 2015-08-31|\n",
            "|         US|   17776853|R1D4Z38STRDQXK|B00IRW15ES|     936830997|Wabash Valley Far...|         Kitchen|          5|           53|         56|   N|                Y|Very Heavy Duty -...|Let me first say,...| 2015-08-31|\n",
            "|         US|   42482060|R1XMWJZICINIFX|B00EPHPQOE|     976827724|French-inspired \"...|         Kitchen|          3|           20|         21|   N|                Y|Double Check the ...|This is a really ...| 2015-08-31|\n",
            "|         US|   52832486|R20QKY1GABXFLM|B00URO56CG|     342955358|Rachael Ray 14-Pi...|         Kitchen|          1|          272|        297|   N|                Y|First time using ...|The first time us...| 2015-08-31|\n",
            "|         US|   37879383|R328FA1E6FY3F5|B010A5JP5K|     260716339|Midori Way Thick ...|         Kitchen|          5|           17|         20|   N|                N|My New Favorite C...|i have been using...| 2015-08-31|\n",
            "|         US|   30356443|R3DH22AA5WGLLS|B0040QD9MG|     945191020|Sistema Klip It C...|         Kitchen|          5|           30|         30|   N|                N|Versatile, great ...|Over the last thr...| 2015-08-31|\n",
            "|         US|   16963471|R1E0E5EFZSLJCS|B000066OJD|     355371628|OXO SoftWorks Mea...|         Kitchen|          1|           66|         80|   N|                Y|             painful|Please see the pi...| 2015-08-31|\n",
            "|         US|    8612349|R1TXZQWEHYWEWN|B00H8OATE8|     628321891|Philips HD9230/26...|         Kitchen|          2|           48|         51|   N|                Y|... air fryer in ...|Bought this air f...| 2015-08-31|\n",
            "|         US|   35807336| RQQAI8YL3UCY2|B00YSBTXBY|     308733658|iCoffee RSS300-DA...|         Kitchen|          5|           23|         25|   N|                Y|This is an excell...|I thought I'd alr...| 2015-08-31|\n",
            "|         US|   43175994|R3PZNAQREFUNJ7|B00GRIR87M|     319510941|Spiralizer 5-Blad...|         Kitchen|          4|           28|         35|   N|                Y|Works well but fo...|Overall like the ...| 2015-08-31|\n",
            "|         US|   38524783|R1ZUNUSUEA5D0T|B00PRD16PI|     133709074|Cupture Vintage M...|         Kitchen|          2|           17|         20|   N|                Y|Careful, it may e...|So, the order arr...| 2015-08-31|\n",
            "|         US|   42297008|R3SHJSHTY8AXKR|B003QP30S0|     900642667|Prepworks from Pr...|         Kitchen|          5|           69|         72|   N|                Y|Just Perfect for ...|This item is perf...| 2015-08-31|\n",
            "|         US|   29290468|R2QM1JXA2XI7XA|B00NQ7QFGM|     649069435|T-fal FR4049 Fami...|         Kitchen|          3|           61|         68|   N|                Y|I filled it to a ...|I have only used ...| 2015-08-31|\n",
            "|         US|   31845599|R1SVJ6XDBCQNSN|B0038LNVR2|     288798805|CuteZCute Bento D...|         Kitchen|          3|           29|         30|   N|                Y|Smaller than expe...|These are tiny --...| 2015-08-31|\n",
            "|         US|   40611040|R1IEABNX71GK3B|B00B80TJIU|     110095135|Ball Mason 4oz Qu...|         Kitchen|          1|           54|         58|   N|                N|       BROKEN GLASS!|MY ITEMS CAME BAD...| 2015-08-31|\n",
            "|         US|   52051413|R16QL1GNQVT4G9|B00YSBTXBY|     308733658|iCoffee RSS300-DA...|         Kitchen|          5|          117|        119|   N|                Y|Good, or excellen...|delivered August ...| 2015-08-31|\n",
            "|         US|   21595327|R1MV4YDD6O5UME|B010YE08DA|     872826655|Deluxe Cook V-Bla...|         Kitchen|          5|           30|         32|   N|                N|It gets the job d...|We had a mandolin...| 2015-08-31|\n",
            "|         US|   26470122|R3A8EHXA0JX7WV|B0120VW61C|     414872055|Magnetic Knife Ho...|         Kitchen|          5|           18|         24|   N|                N|Tiny kitchen, big...|Hubby and I live ...| 2015-08-31|\n",
            "|         US|   49452274|R2M7TEVV9YSLTR|B00YU13CA0|     901581837|Under Armour Lunc...|         Kitchen|          5|           94|         96|   N|                Y|Far higher qualit...|I've been using l...| 2015-08-31|\n",
            "+-----------+-----------+--------------+----------+--------------+--------------------+----------------+-----------+-------------+-----------+----+-----------------+--------------------+--------------------+-----------+\n",
            "only showing top 20 rows\n",
            "\n"
          ]
        }
      ]
    },
    {
      "cell_type": "code",
      "source": [
        "# Determine the total number of reviews, the number of 5-star reviews, and the percentage of 5-star reviews for the two types of review (paid vs unpaid).\n",
        "# paid total number of reviews\n",
        "total_paid_reviews = paid_df.count()\n",
        "total_paid_reviews\n",
        "\n"
      ],
      "metadata": {
        "colab": {
          "base_uri": "https://localhost:8080/"
        },
        "id": "nF5tYx1CHdjn",
        "outputId": "4c77c7a2-af3a-4508-cd05-4d6eac4270b0"
      },
      "execution_count": 21,
      "outputs": [
        {
          "output_type": "execute_result",
          "data": {
            "text/plain": [
              "1207"
            ]
          },
          "metadata": {},
          "execution_count": 21
        }
      ]
    },
    {
      "cell_type": "code",
      "source": [
        "# paid 5-star reviews\n",
        "paid_five_star_reviews = paid_df.filter(paid_df.star_rating == 5).count()\n",
        "paid_five_star_reviews\n"
      ],
      "metadata": {
        "colab": {
          "base_uri": "https://localhost:8080/"
        },
        "id": "4CsDsHUDKRtN",
        "outputId": "0f3d6dc5-2356-4438-ee7b-26bde0504566"
      },
      "execution_count": 22,
      "outputs": [
        {
          "output_type": "execute_result",
          "data": {
            "text/plain": [
              "509"
            ]
          },
          "metadata": {},
          "execution_count": 22
        }
      ]
    },
    {
      "cell_type": "code",
      "source": [
        "# paid 5-star reviews percentage\n",
        "paid_five_star_percent = (paid_five_star_reviews / total_paid_reviews) * 100\n",
        "paid_five_star_percent"
      ],
      "metadata": {
        "colab": {
          "base_uri": "https://localhost:8080/"
        },
        "id": "g_cGODvNKRv6",
        "outputId": "1dde3a05-adc7-4ae9-c689-4b90256f405a"
      },
      "execution_count": 23,
      "outputs": [
        {
          "output_type": "execute_result",
          "data": {
            "text/plain": [
              "42.17067108533554"
            ]
          },
          "metadata": {},
          "execution_count": 23
        }
      ]
    },
    {
      "cell_type": "code",
      "source": [
        "# unpaid total number of reviews\n",
        "total_unpaid_reviews = unpaid_df.count()\n",
        "total_unpaid_reviews"
      ],
      "metadata": {
        "colab": {
          "base_uri": "https://localhost:8080/"
        },
        "id": "eV_aSevlKRyD",
        "outputId": "ee63f4d2-cc7f-43b5-f61b-412d2d2ef7e5"
      },
      "execution_count": 24,
      "outputs": [
        {
          "output_type": "execute_result",
          "data": {
            "text/plain": [
              "97839"
            ]
          },
          "metadata": {},
          "execution_count": 24
        }
      ]
    },
    {
      "cell_type": "code",
      "source": [
        "# unpaid 5-star reviews\n",
        "unpaid_five_star_reviews = unpaid_df.filter(unpaid_df.star_rating == 5).count()\n",
        "unpaid_five_star_reviews"
      ],
      "metadata": {
        "colab": {
          "base_uri": "https://localhost:8080/"
        },
        "id": "9o5YN2ZEHdl1",
        "outputId": "4d065f83-d153-413a-9cd0-61ea0e7bd7f2"
      },
      "execution_count": 25,
      "outputs": [
        {
          "output_type": "execute_result",
          "data": {
            "text/plain": [
              "45858"
            ]
          },
          "metadata": {},
          "execution_count": 25
        }
      ]
    },
    {
      "cell_type": "code",
      "source": [
        "# unpaid 5-star reviews percentage\n",
        "unpaid_five_star_percent = (unpaid_five_star_reviews / total_unpaid_reviews) * 100\n",
        "unpaid_five_star_percent"
      ],
      "metadata": {
        "colab": {
          "base_uri": "https://localhost:8080/"
        },
        "id": "jmtKacHTLb3M",
        "outputId": "4c474bf0-4608-4406-d423-4e015c9f1c9e"
      },
      "execution_count": 26,
      "outputs": [
        {
          "output_type": "execute_result",
          "data": {
            "text/plain": [
              "46.87087971054488"
            ]
          },
          "metadata": {},
          "execution_count": 26
        }
      ]
    }
  ]
}